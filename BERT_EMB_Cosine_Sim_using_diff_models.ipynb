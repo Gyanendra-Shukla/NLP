{
 "cells": [
  {
   "cell_type": "code",
   "execution_count": 1,
   "metadata": {},
   "outputs": [],
   "source": [
    "from sentence_transformers import SentenceTransformer\n",
    "import torch"
   ]
  },
  {
   "attachments": {},
   "cell_type": "markdown",
   "metadata": {},
   "source": [
    "Using Different Models"
   ]
  },
  {
   "cell_type": "code",
   "execution_count": 2,
   "metadata": {},
   "outputs": [],
   "source": [
    "model = SentenceTransformer('distilbert-base-nli-mean-tokens')\n",
    "minimodel=SentenceTransformer('all-MiniLM-L6-v2')\n",
    "# mpnet=SentenceTransformer('sentence-transformers/all-mpnet-base-v2')\n",
    "# model = TFBertModel.from_pretrained(\"./pt_model/my_pytorch_model.bin\", from_pt=True, config=config)"
   ]
  },
  {
   "cell_type": "code",
   "execution_count": 3,
   "metadata": {},
   "outputs": [],
   "source": [
    "sentences = [\n",
    "    \"the fifty mannequin heads floating in the pool kind of freaked them out\",\n",
    "    \"she swore she just saw her sushi move\",\n",
    "    \"he embraced his new life as an eggplant\",\n",
    "    \"my dentist tells me that chewing bricks is very bad for your teeth\",\n",
    "    \"the dental specialist recommended an immediate stop to flossing with construction materials\"\n",
    "]\n",
    "embeddings=model.encode(sentences)\n",
    "membeddings=minimodel.encode(sentences)"
   ]
  },
  {
   "cell_type": "code",
   "execution_count": 4,
   "metadata": {},
   "outputs": [],
   "source": [
    "import numpy as np\n",
    "from sentence_transformers.util import cos_sim"
   ]
  },
  {
   "cell_type": "code",
   "execution_count": 5,
   "metadata": {},
   "outputs": [],
   "source": [
    "sim1=np.zeros((len(sentences),len(sentences)))\n",
    "sim2=np.zeros((len(sentences),len(sentences)))"
   ]
  },
  {
   "cell_type": "code",
   "execution_count": 6,
   "metadata": {},
   "outputs": [],
   "source": [
    "for i in range(len(sentences)):\n",
    "    sim1[i:,i]=cos_sim(embeddings[i],embeddings[i:])\n",
    "    sim2[i:,i]=cos_sim(membeddings[i],membeddings[i:])"
   ]
  },
  {
   "attachments": {},
   "cell_type": "markdown",
   "metadata": {},
   "source": [
    "Cosine Simmilarity using model1"
   ]
  },
  {
   "cell_type": "code",
   "execution_count": 7,
   "metadata": {},
   "outputs": [
    {
     "data": {
      "text/plain": [
       "array([[0.99999982, 0.        , 0.        , 0.        , 0.        ],\n",
       "       [0.47645319, 1.00000012, 0.        , 0.        , 0.        ],\n",
       "       [0.15947187, 0.42819723, 1.        , 0.        , 0.        ],\n",
       "       [0.41520053, 0.42834941, 0.1513149 , 1.00000012, 0.        ],\n",
       "       [0.29242051, 0.42459354, 0.22014709, 0.63346052, 1.        ]])"
      ]
     },
     "execution_count": 7,
     "metadata": {},
     "output_type": "execute_result"
    }
   ],
   "source": [
    "sim1"
   ]
  },
  {
   "attachments": {},
   "cell_type": "markdown",
   "metadata": {},
   "source": [
    "Cosine Simmilarity using model2"
   ]
  },
  {
   "cell_type": "code",
   "execution_count": 8,
   "metadata": {},
   "outputs": [
    {
     "data": {
      "text/plain": [
       "array([[ 1.00000012,  0.        ,  0.        ,  0.        ,  0.        ],\n",
       "       [ 0.21621107,  1.00000024,  0.        ,  0.        ,  0.        ],\n",
       "       [ 0.03266479,  0.18411851,  1.00000012,  0.        ,  0.        ],\n",
       "       [-0.05884855,  0.07821246,  0.14794004,  1.00000012,  0.        ],\n",
       "       [ 0.08289957,  0.0291306 ,  0.08819296,  0.42382169,  1.00000012]])"
      ]
     },
     "execution_count": 8,
     "metadata": {},
     "output_type": "execute_result"
    }
   ],
   "source": [
    "sim2"
   ]
  },
  {
   "attachments": {},
   "cell_type": "markdown",
   "metadata": {},
   "source": [
    "Embeddings_Of_DataSet"
   ]
  },
  {
   "cell_type": "code",
   "execution_count": 9,
   "metadata": {},
   "outputs": [
    {
     "data": {
      "text/html": [
       "<div>\n",
       "<style scoped>\n",
       "    .dataframe tbody tr th:only-of-type {\n",
       "        vertical-align: middle;\n",
       "    }\n",
       "\n",
       "    .dataframe tbody tr th {\n",
       "        vertical-align: top;\n",
       "    }\n",
       "\n",
       "    .dataframe thead th {\n",
       "        text-align: right;\n",
       "    }\n",
       "</style>\n",
       "<table border=\"1\" class=\"dataframe\">\n",
       "  <thead>\n",
       "    <tr style=\"text-align: right;\">\n",
       "      <th></th>\n",
       "      <th>Titles</th>\n",
       "      <th>Authors</th>\n",
       "      <th>Dates</th>\n",
       "      <th>Links</th>\n",
       "      <th>Contents</th>\n",
       "    </tr>\n",
       "  </thead>\n",
       "  <tbody>\n",
       "    <tr>\n",
       "      <th>0</th>\n",
       "      <td>Please Consider the Racial Impact of Your Hall...</td>\n",
       "      <td>Savala Nolan</td>\n",
       "      <td>Oct 17</td>\n",
       "      <td>https://momentum.medium.com/i-beg-you-consider...</td>\n",
       "      <td>Oh, it’s that time of year again! So here is a...</td>\n",
       "    </tr>\n",
       "    <tr>\n",
       "      <th>1</th>\n",
       "      <td>That Time We Burned Down Players’ Houses in Ul...</td>\n",
       "      <td>Tim Cotten</td>\n",
       "      <td>Oct 3</td>\n",
       "      <td>https://blog.cotten.io/that-time-we-burned-dow...</td>\n",
       "      <td>Ultima Online is celebrating its 25th annivers...</td>\n",
       "    </tr>\n",
       "    <tr>\n",
       "      <th>2</th>\n",
       "      <td>The Wonderful Outcome of the Ice Bucket Challenge</td>\n",
       "      <td>Jamie Cohen</td>\n",
       "      <td>Sep 30</td>\n",
       "      <td>https://newanddigital.medium.com/the-long-payo...</td>\n",
       "      <td>The water had to be ice cold and you had to be...</td>\n",
       "    </tr>\n",
       "    <tr>\n",
       "      <th>3</th>\n",
       "      <td>Why Should You Care About the Bar Exam?</td>\n",
       "      <td>Dan Canon</td>\n",
       "      <td>Sep 27</td>\n",
       "      <td>https://medium.com/i-taught-the-law/why-should...</td>\n",
       "      <td>You didn’t take the bar exam. That’s probably ...</td>\n",
       "    </tr>\n",
       "    <tr>\n",
       "      <th>4</th>\n",
       "      <td>Please Don’t Tell My Daughter She’s Beautiful</td>\n",
       "      <td>Kerala Taylor</td>\n",
       "      <td>Oct 11</td>\n",
       "      <td>https://keralataylor.medium.com/please-dont-te...</td>\n",
       "      <td>I have two beautiful children.I might be biase...</td>\n",
       "    </tr>\n",
       "    <tr>\n",
       "      <th>...</th>\n",
       "      <td>...</td>\n",
       "      <td>...</td>\n",
       "      <td>...</td>\n",
       "      <td>...</td>\n",
       "      <td>...</td>\n",
       "    </tr>\n",
       "    <tr>\n",
       "      <th>304</th>\n",
       "      <td>How I Kept My Sense of Humor Through Vision Loss</td>\n",
       "      <td>Nancy Solari</td>\n",
       "      <td>Sep 15</td>\n",
       "      <td>https://betterhumans.pub/how-i-kept-my-sense-o...</td>\n",
       "      <td>My diagnosis of retinitis pigmentosa at age 16...</td>\n",
       "    </tr>\n",
       "    <tr>\n",
       "      <th>305</th>\n",
       "      <td>The true scientific meaning of Mercury enterin...</td>\n",
       "      <td>Ethan Siegel</td>\n",
       "      <td>Sep 15</td>\n",
       "      <td>https://medium.com/starts-with-a-bang/the-true...</td>\n",
       "      <td>Throughout almost all of the year, you can see...</td>\n",
       "    </tr>\n",
       "    <tr>\n",
       "      <th>306</th>\n",
       "      <td>The Feelings Monster, building a character wit...</td>\n",
       "      <td>Microsoft Design</td>\n",
       "      <td>Sep 6</td>\n",
       "      <td>https://medium.com/microsoft-design/the-feelin...</td>\n",
       "      <td>On designing for mental health and the power o...</td>\n",
       "    </tr>\n",
       "    <tr>\n",
       "      <th>307</th>\n",
       "      <td>Feeling Overwhelmed? You Need an MVD—That’s Mi...</td>\n",
       "      <td>Rebecca Pendleton</td>\n",
       "      <td>May 27, 2021</td>\n",
       "      <td>https://index.medium.com/feeling-overwhelmed-y...</td>\n",
       "      <td>I’\\nm a product director at a corporate financ...</td>\n",
       "    </tr>\n",
       "    <tr>\n",
       "      <th>308</th>\n",
       "      <td>Type Casting — or: The Comic Sans of Errors</td>\n",
       "      <td>Boris Müller</td>\n",
       "      <td>Mar 9, 2019</td>\n",
       "      <td>https://borism.medium.com/type-casting-or-the-...</td>\n",
       "      <td>A\\ncommon question in my first-year design sem...</td>\n",
       "    </tr>\n",
       "  </tbody>\n",
       "</table>\n",
       "<p>309 rows × 5 columns</p>\n",
       "</div>"
      ],
      "text/plain": [
       "                                                Titles            Authors  \\\n",
       "0    Please Consider the Racial Impact of Your Hall...       Savala Nolan   \n",
       "1    That Time We Burned Down Players’ Houses in Ul...         Tim Cotten   \n",
       "2    The Wonderful Outcome of the Ice Bucket Challenge        Jamie Cohen   \n",
       "3              Why Should You Care About the Bar Exam?          Dan Canon   \n",
       "4        Please Don’t Tell My Daughter She’s Beautiful      Kerala Taylor   \n",
       "..                                                 ...                ...   \n",
       "304   How I Kept My Sense of Humor Through Vision Loss       Nancy Solari   \n",
       "305  The true scientific meaning of Mercury enterin...       Ethan Siegel   \n",
       "306  The Feelings Monster, building a character wit...   Microsoft Design   \n",
       "307  Feeling Overwhelmed? You Need an MVD—That’s Mi...  Rebecca Pendleton   \n",
       "308        Type Casting — or: The Comic Sans of Errors       Boris Müller   \n",
       "\n",
       "            Dates                                              Links  \\\n",
       "0          Oct 17  https://momentum.medium.com/i-beg-you-consider...   \n",
       "1           Oct 3  https://blog.cotten.io/that-time-we-burned-dow...   \n",
       "2          Sep 30  https://newanddigital.medium.com/the-long-payo...   \n",
       "3          Sep 27  https://medium.com/i-taught-the-law/why-should...   \n",
       "4          Oct 11  https://keralataylor.medium.com/please-dont-te...   \n",
       "..            ...                                                ...   \n",
       "304        Sep 15  https://betterhumans.pub/how-i-kept-my-sense-o...   \n",
       "305        Sep 15  https://medium.com/starts-with-a-bang/the-true...   \n",
       "306         Sep 6  https://medium.com/microsoft-design/the-feelin...   \n",
       "307  May 27, 2021  https://index.medium.com/feeling-overwhelmed-y...   \n",
       "308   Mar 9, 2019  https://borism.medium.com/type-casting-or-the-...   \n",
       "\n",
       "                                              Contents  \n",
       "0    Oh, it’s that time of year again! So here is a...  \n",
       "1    Ultima Online is celebrating its 25th annivers...  \n",
       "2    The water had to be ice cold and you had to be...  \n",
       "3    You didn’t take the bar exam. That’s probably ...  \n",
       "4    I have two beautiful children.I might be biase...  \n",
       "..                                                 ...  \n",
       "304  My diagnosis of retinitis pigmentosa at age 16...  \n",
       "305  Throughout almost all of the year, you can see...  \n",
       "306  On designing for mental health and the power o...  \n",
       "307  I’\\nm a product director at a corporate financ...  \n",
       "308  A\\ncommon question in my first-year design sem...  \n",
       "\n",
       "[309 rows x 5 columns]"
      ]
     },
     "execution_count": 9,
     "metadata": {},
     "output_type": "execute_result"
    }
   ],
   "source": [
    "import pandas as pd\n",
    "ds=pd.read_csv('medium_Data.csv.xls')\n",
    "ds"
   ]
  },
  {
   "cell_type": "code",
   "execution_count": 10,
   "metadata": {},
   "outputs": [],
   "source": [
    "model=SentenceTransformer('sentence-transformers/multi-qa-mpnet-base-dot-v1')"
   ]
  },
  {
   "cell_type": "code",
   "execution_count": 11,
   "metadata": {},
   "outputs": [
    {
     "data": {
      "text/plain": [
       "array([[-0.15904112, -0.02815423, -0.34769464, ..., -0.05652945,\n",
       "        -0.25248212, -0.20429754],\n",
       "       [-0.02089733, -0.07984428, -0.3048733 , ...,  0.16599381,\n",
       "        -0.28794917,  0.14395127],\n",
       "       [ 0.19895129,  0.01414733, -0.44468006, ..., -0.15330118,\n",
       "         0.18584459, -0.14877291],\n",
       "       ...,\n",
       "       [-0.07744548, -0.01752455, -0.28358787, ...,  0.07210062,\n",
       "        -0.12631127, -0.14551297],\n",
       "       [-0.26691023, -0.38169003, -0.2883259 , ..., -0.19347322,\n",
       "         0.01754419, -0.16607647],\n",
       "       [ 0.07269135, -0.47379884, -0.10616846, ...,  0.0302386 ,\n",
       "         0.00621203,  0.05653273]], dtype=float32)"
      ]
     },
     "execution_count": 11,
     "metadata": {},
     "output_type": "execute_result"
    }
   ],
   "source": [
    "embeddings=model.encode(ds['Titles'])\n",
    "embeddings"
   ]
  },
  {
   "cell_type": "code",
   "execution_count": 12,
   "metadata": {},
   "outputs": [],
   "source": [
    "# sim=cos_sim(embeddings[304],embeddings[306])\n",
    "xb=embeddings\n",
    "xb=xb[:600]\n",
    "xq=[]\n"
   ]
  },
  {
   "cell_type": "code",
   "execution_count": null,
   "metadata": {},
   "outputs": [],
   "source": []
  }
 ],
 "metadata": {
  "kernelspec": {
   "display_name": "Python 3",
   "language": "python",
   "name": "python3"
  },
  "language_info": {
   "codemirror_mode": {
    "name": "ipython",
    "version": 3
   },
   "file_extension": ".py",
   "mimetype": "text/x-python",
   "name": "python",
   "nbconvert_exporter": "python",
   "pygments_lexer": "ipython3",
   "version": "3.10.7"
  },
  "orig_nbformat": 4,
  "vscode": {
   "interpreter": {
    "hash": "876db7d3f8682b7e4c5477e5f1e2dc2bd1b19fe05d9aabd59218369070754b39"
   }
  }
 },
 "nbformat": 4,
 "nbformat_minor": 2
}
