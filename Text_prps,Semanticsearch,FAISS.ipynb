{
 "cells": [
  {
   "cell_type": "code",
   "execution_count": 21,
   "metadata": {},
   "outputs": [],
   "source": [
    "import spacy"
   ]
  },
  {
   "cell_type": "code",
   "execution_count": 22,
   "metadata": {},
   "outputs": [],
   "source": [
    "nlp=spacy.load(\"en_core_web_sm\")"
   ]
  },
  {
   "cell_type": "code",
   "execution_count": 23,
   "metadata": {},
   "outputs": [],
   "source": [
    "txt=\"\"\"New York City on Tuesday declared a public health emergency and ordered mandatory measles vaccinations amid an outbreak, becoming the latest national flash point over refusals to inoculate against dangerous diseases.\n",
    "\n",
    "At least 285 people have contracted measles in the city since September, mostly in Brooklyn’s Williamsburg neighborhood. The order covers four Zip codes there, Mayor Bill de Blasio (D) said Tuesday.\n",
    "\n",
    "The mandate orders all unvaccinated people in the area, including a concentration of Orthodox Jews, to receive inoculations, including for children as young as 6 months old. Anyone who resists could be fined up to $1,000.\"\"\""
   ]
  },
  {
   "cell_type": "code",
   "execution_count": 24,
   "metadata": {},
   "outputs": [
    {
     "data": {
      "text/plain": [
       "'New York City on Tuesday declared a public health emergency and ordered mandatory measles vaccinations amid an outbreak, becoming the latest national flash point over refusals to inoculate against dangerous diseases.\\n\\nAt least 285 people have contracted measles in the city since September, mostly in Brooklyn’s Williamsburg neighborhood. The order covers four Zip codes there, Mayor Bill de Blasio (D) said Tuesday.\\n\\nThe mandate orders all unvaccinated people in the area, including a concentration of Orthodox Jews, to receive inoculations, including for children as young as 6 months old. Anyone who resists could be fined up to $1,000.'"
      ]
     },
     "execution_count": 24,
     "metadata": {},
     "output_type": "execute_result"
    }
   ],
   "source": [
    "doc=nlp(txt)\n",
    "txt"
   ]
  },
  {
   "cell_type": "code",
   "execution_count": 25,
   "metadata": {},
   "outputs": [
    {
     "name": "stdout",
     "output_type": "stream",
     "text": [
      "['New', 'York', 'City', 'on', 'Tuesday', 'declared', 'a', 'public', 'health', 'emergency', 'and', 'ordered', 'mandatory', 'measles', 'vaccinations', 'amid', 'an', 'outbreak', ',', 'becoming', 'the', 'latest', 'national', 'flash', 'point', 'over', 'refusals', 'to', 'inoculate', 'against', 'dangerous', 'diseases', '.', '\\n\\n', 'At', 'least', '285', 'people', 'have', 'contracted', 'measles', 'in', 'the', 'city', 'since', 'September', ',', 'mostly', 'in', 'Brooklyn', '’s', 'Williamsburg', 'neighborhood', '.', 'The', 'order', 'covers', 'four', 'Zip', 'codes', 'there', ',', 'Mayor', 'Bill', 'de', 'Blasio', '(', 'D', ')', 'said', 'Tuesday', '.', '\\n\\n', 'The', 'mandate', 'orders', 'all', 'unvaccinated', 'people', 'in', 'the', 'area', ',', 'including', 'a', 'concentration', 'of', 'Orthodox', 'Jews', ',', 'to', 'receive', 'inoculations', ',', 'including', 'for', 'children', 'as', 'young', 'as', '6', 'months', 'old', '.', 'Anyone', 'who', 'resists', 'could', 'be', 'fined', 'up', 'to', '$', '1,000', '.']\n"
     ]
    }
   ],
   "source": [
    "token=[]\n",
    "for tk in doc:\n",
    "    token.append(tk.text)\n",
    "print(token)\n",
    "\n"
   ]
  },
  {
   "attachments": {},
   "cell_type": "markdown",
   "metadata": {},
   "source": [
    "Stop words removed "
   ]
  },
  {
   "cell_type": "code",
   "execution_count": 26,
   "metadata": {},
   "outputs": [],
   "source": [
    "from spacy.lang.en.stop_words import STOP_WORDS\n",
    "def rmvst(t):\n",
    "    newtxt=[]\n",
    "    for word in t:\n",
    "        lx=nlp.vocab[word]\n",
    "        if lx.is_stop==True:\n",
    "            newtxt.append('')\n",
    "        else:\n",
    "            newtxt.append(word)\n",
    "    x=newtxt[:]\n",
    "    newtxt.clear()\n",
    "    return \" \".join(x)"
   ]
  },
  {
   "cell_type": "code",
   "execution_count": 27,
   "metadata": {},
   "outputs": [
    {
     "name": "stdout",
     "output_type": "stream",
     "text": [
      "New York City  Tuesday declared  public health emergency  ordered mandatory measles vaccinations amid  outbreak ,   latest national flash point  refusals  inoculate  dangerous diseases . \n",
      "\n",
      "   285 people  contracted measles   city  September ,   Brooklyn  Williamsburg neighborhood .  order covers  Zip codes  , Mayor Bill de Blasio ( D ) said Tuesday . \n",
      "\n",
      "  mandate orders  unvaccinated people   area , including  concentration  Orthodox Jews ,  receive inoculations , including  children  young  6 months old .   resists   fined   $ 1,000 .\n"
     ]
    }
   ],
   "source": [
    "clean=rmvst(token)\n",
    "print(clean)"
   ]
  },
  {
   "cell_type": "code",
   "execution_count": 28,
   "metadata": {},
   "outputs": [],
   "source": [
    "import re\n",
    "clean_filter=re.sub(r'[^a-zA-Z0-9 ]', r' ',clean)"
   ]
  },
  {
   "cell_type": "code",
   "execution_count": 29,
   "metadata": {},
   "outputs": [
    {
     "name": "stdout",
     "output_type": "stream",
     "text": [
      "New York City  Tuesday declared  public health emergency  ordered mandatory measles vaccinations amid  outbreak     latest national flash point  refusals  inoculate  dangerous diseases        285 people  contracted measles   city  September     Brooklyn  Williamsburg neighborhood    order covers  Zip codes    Mayor Bill de Blasio   D   said Tuesday       mandate orders  unvaccinated people   area   including  concentration  Orthodox Jews    receive inoculations   including  children  young  6 months old     resists   fined     1 000  \n"
     ]
    }
   ],
   "source": [
    "print(clean_filter)"
   ]
  },
  {
   "attachments": {},
   "cell_type": "markdown",
   "metadata": {},
   "source": [
    "NER"
   ]
  },
  {
   "cell_type": "code",
   "execution_count": 30,
   "metadata": {},
   "outputs": [
    {
     "data": {
      "text/plain": [
       "[(New York City, 'GPE', 384),\n",
       " (Tuesday, 'DATE', 391),\n",
       " (285, 'CARDINAL', 397),\n",
       " (September, 'DATE', 391),\n",
       " (Brooklyn, 'GPE', 384),\n",
       " (Zip, 'PERSON', 380),\n",
       " (Bill de Blasio, 'PERSON', 380),\n",
       " (Tuesday, 'DATE', 391),\n",
       " (Orthodox, 'NORP', 381),\n",
       " (Jews, 'NORP', 381),\n",
       " (6 months old, 'DATE', 391),\n",
       " (1 000, 'CARDINAL', 397)]"
      ]
     },
     "execution_count": 30,
     "metadata": {},
     "output_type": "execute_result"
    }
   ],
   "source": [
    "newtxt=nlp(clean_filter)\n",
    "e=[]\n",
    "for i in newtxt.ents:\n",
    "    t=(i,i.label_,i.label)\n",
    "    e.append(t)\n",
    "e\n"
   ]
  },
  {
   "attachments": {},
   "cell_type": "markdown",
   "metadata": {},
   "source": [
    "Tokenization and lemmitization"
   ]
  },
  {
   "cell_type": "code",
   "execution_count": 31,
   "metadata": {},
   "outputs": [
    {
     "data": {
      "text/plain": [
       "[['New', 'New'],\n",
       " ['York', 'York'],\n",
       " ['City', 'City'],\n",
       " [' ', ' '],\n",
       " ['Tuesday', 'Tuesday'],\n",
       " ['declared', 'declare'],\n",
       " [' ', ' '],\n",
       " ['public', 'public'],\n",
       " ['health', 'health'],\n",
       " ['emergency', 'emergency'],\n",
       " [' ', ' '],\n",
       " ['ordered', 'order'],\n",
       " ['mandatory', 'mandatory'],\n",
       " ['measles', 'measles'],\n",
       " ['vaccinations', 'vaccination'],\n",
       " ['amid', 'amid'],\n",
       " [' ', ' '],\n",
       " ['outbreak', 'outbreak'],\n",
       " ['    ', '    '],\n",
       " ['latest', 'late'],\n",
       " ['national', 'national'],\n",
       " ['flash', 'flash'],\n",
       " ['point', 'point'],\n",
       " [' ', ' '],\n",
       " ['refusals', 'refusal'],\n",
       " [' ', ' '],\n",
       " ['inoculate', 'inoculate'],\n",
       " [' ', ' '],\n",
       " ['dangerous', 'dangerous'],\n",
       " ['diseases', 'disease'],\n",
       " ['       ', '       '],\n",
       " ['285', '285'],\n",
       " ['people', 'people'],\n",
       " [' ', ' '],\n",
       " ['contracted', 'contract'],\n",
       " ['measles', 'measle'],\n",
       " ['  ', '  '],\n",
       " ['city', 'city'],\n",
       " [' ', ' '],\n",
       " ['September', 'September'],\n",
       " ['    ', '    '],\n",
       " ['Brooklyn', 'Brooklyn'],\n",
       " [' ', ' '],\n",
       " ['Williamsburg', 'Williamsburg'],\n",
       " ['neighborhood', 'neighborhood'],\n",
       " ['   ', '   '],\n",
       " ['order', 'order'],\n",
       " ['covers', 'cover'],\n",
       " [' ', ' '],\n",
       " ['Zip', 'Zip'],\n",
       " ['codes', 'code'],\n",
       " ['   ', '   '],\n",
       " ['Mayor', 'Mayor'],\n",
       " ['Bill', 'Bill'],\n",
       " ['de', 'de'],\n",
       " ['Blasio', 'Blasio'],\n",
       " ['  ', '  '],\n",
       " ['D', 'D'],\n",
       " ['  ', '  '],\n",
       " ['said', 'say'],\n",
       " ['Tuesday', 'Tuesday'],\n",
       " ['      ', '      '],\n",
       " ['mandate', 'mandate'],\n",
       " ['orders', 'order'],\n",
       " [' ', ' '],\n",
       " ['unvaccinated', 'unvaccinated'],\n",
       " ['people', 'people'],\n",
       " ['  ', '  '],\n",
       " ['area', 'area'],\n",
       " ['  ', '  '],\n",
       " ['including', 'include'],\n",
       " [' ', ' '],\n",
       " ['concentration', 'concentration'],\n",
       " [' ', ' '],\n",
       " ['Orthodox', 'Orthodox'],\n",
       " ['Jews', 'Jews'],\n",
       " ['   ', '   '],\n",
       " ['receive', 'receive'],\n",
       " ['inoculations', 'inoculation'],\n",
       " ['  ', '  '],\n",
       " ['including', 'include'],\n",
       " [' ', ' '],\n",
       " ['children', 'child'],\n",
       " [' ', ' '],\n",
       " ['young', 'young'],\n",
       " [' ', ' '],\n",
       " ['6', '6'],\n",
       " ['months', 'month'],\n",
       " ['old', 'old'],\n",
       " ['    ', '    '],\n",
       " ['resists', 'resist'],\n",
       " ['  ', '  '],\n",
       " ['fined', 'fine'],\n",
       " ['    ', '    '],\n",
       " ['1', '1'],\n",
       " ['000', '000'],\n",
       " [' ', ' ']]"
      ]
     },
     "execution_count": 31,
     "metadata": {},
     "output_type": "execute_result"
    }
   ],
   "source": [
    "tokens=[[token.text,token.lemma_] for token in newtxt]\n",
    "tokens"
   ]
  },
  {
   "cell_type": "code",
   "execution_count": null,
   "metadata": {},
   "outputs": [],
   "source": [
    "!pip install -U sentence-transformers"
   ]
  },
  {
   "cell_type": "code",
   "execution_count": null,
   "metadata": {},
   "outputs": [],
   "source": [
    "from sentence_transformers import SentenceTransformer\n",
    "# model=SentenceTransformer('all-MiniLM-L6-v2')\n",
    "model=SentenceTransformer('distilbert-base-nli-mean-tokens')\n",
    "\n",
    "sentences=['This framework generates embeddings for each input sentence',\n",
    "    'Sentences are passed as a list of string.', \n",
    "    'The quick brown fox jumps over the lazy dog.']\n",
    "sent_em=model.encode(sentences)\n",
    "for sent,em in zip(sentences,sent_em):\n",
    "    print(\"Sentence:\", sent)\n",
    "    print(\"Embedding:\", em, end='\\n\\n')"
   ]
  },
  {
   "cell_type": "code",
   "execution_count": 2,
   "metadata": {},
   "outputs": [],
   "source": [
    "import pandas as pd"
   ]
  },
  {
   "cell_type": "code",
   "execution_count": 35,
   "metadata": {},
   "outputs": [
    {
     "name": "stdout",
     "output_type": "stream",
     "text": [
      "Requirement already satisfied: faiss-cpu in c:\\users\\asus\\appdata\\local\\programs\\python\\python310\\lib\\site-packages (1.7.3)\n"
     ]
    }
   ],
   "source": [
    "!pip install faiss-cpu"
   ]
  },
  {
   "cell_type": "code",
   "execution_count": 30,
   "metadata": {},
   "outputs": [
    {
     "data": {
      "text/plain": [
       "'ChatGPT is blowing up. Twitter is inundated with screenshots of the app, coding sites like Stack Overflow are already banning answers produced with it, and over 1 million people have played with it. It’s a sensation.'"
      ]
     },
     "execution_count": 30,
     "metadata": {},
     "output_type": "execute_result"
    }
   ],
   "source": [
    "import numpy as np\n",
    "import torch\n",
    "import os\n",
    "import faiss\n",
    "df=pd.read_csv('medium_Data.csv.xls')\n",
    "data=df['Contents'].to_list()\n",
    "\n",
    "actual=data[0:11]\n",
    "actual[6]\n"
   ]
  },
  {
   "cell_type": "code",
   "execution_count": 18,
   "metadata": {},
   "outputs": [],
   "source": [
    "model=SentenceTransformer('distilbert-base-nli-mean-tokens')\n",
    "encodemodel=model.encode(actual)"
   ]
  },
  {
   "cell_type": "code",
   "execution_count": 19,
   "metadata": {},
   "outputs": [],
   "source": [
    "idx=faiss.IndexIDMap(faiss.IndexFlatIP(768))\n",
    "idx.add_with_ids(encodemodel, np.array(range(0,len(actual))))\n",
    "faiss.write_index(idx,'News')\n"
   ]
  },
  {
   "cell_type": "code",
   "execution_count": 20,
   "metadata": {},
   "outputs": [],
   "source": [
    "idx=faiss.read_index('News')"
   ]
  },
  {
   "cell_type": "code",
   "execution_count": 21,
   "metadata": {},
   "outputs": [],
   "source": [
    "def search(q):\n",
    "    qv=model.encode([q])\n",
    "    k=2\n",
    "    top_k=idx.search(qv,k)\n",
    "    return [actual[_id] for _id in top_k[1].tolist()[0]]\n"
   ]
  },
  {
   "cell_type": "code",
   "execution_count": 39,
   "metadata": {},
   "outputs": [],
   "source": [
    "q=\"It’s a sensation\"\n",
    "results=search(q)"
   ]
  },
  {
   "cell_type": "code",
   "execution_count": 40,
   "metadata": {},
   "outputs": [
    {
     "name": "stdout",
     "output_type": "stream",
     "text": [
      "\t Google is completely changing the way that search engines operate.Search behaviours encompass much more than simply asking a question and looking for an answer. Often, people don’t have a specific question in mind, but are…\n",
      "\n",
      "\t When Gottfried Wilhelm Leibniz discovered binary, he was ecstatic. In a letter to the Duke of Brunswick, he sketched his famous medallion depicting the creation of the universe: a tablet of binary numbers, commandments consisting solely of the integers from 0000 to 1111, wreathed in the motto Omnibus ex nihilo ducendis sufficit unum (“To produce everything out of nothing, one is sufficient”).The 0 was nothingness; the 1, God.Leibniz saw binary in the broken and unbroken lines of the I Ching,¹ in his own mathematics, and in the monads he glimpsed behind reality’s matrix, sifting through the aether like luminescent kanji. He believed binary to be the universal language, allowing any proposition or argument to be tested computationally for its correctness (0 or 1) using a “calculus of ideas”, or calculus ratiocinator. This foreshadowed George Boole’s 1854 treatise The Laws of Thought, which developed the Boolean algebra all modern computers use. Cybernetics pioneer Norbert Wiener thought that by ratiocinator Leibniz literally meant a digital computer.² Maybe.Computers are certainly useful, and a digital universe hasn’t been ruled out,³ but today, we know that propositional logic is not the stuff of thought. Both the successes of postwar neuroscience and the failures of Good Old Fashioned AI⁴ show this.So: Leibniz’s error. It cast a long shadow.Consider the on/off button: a 1 penetrating a 0. A power relation? A gender relation?According to cyberfeminist Judy Wajcman, radical critiques of science and technology in the late 1960s and early 1970s “developed a Marxist analysis of the class character of science and its links with capitalist methods of production”, since “science had become directed towards domination”.⁵But according to Marx, good technology involved the “Subjection of Nature’s forces to man”, the “clearing of whole continents for cultivation”, producing “whole populations conjured out of the ground”.⁶ Is this not the very picture of domination? I imagine a field of wriggling little 1’s sprouting out of a great 0 — or sperm fertilizing an egg — or maggots, hard at work plundering a fallen fruit.Marx again, thinking in binary: “The use values, coat, linen, &c., […] are combinations of two elements — matter and labour. […] [In man’s] work of changing the form he is constantly helped by natural forces. We see, then, that labour is not the only source of material wealth […] labour is its father and the earth its mother.” Maybe.And the offspring of this union? “A commodity appears, at first sight, a very trivial thing, and easily understood. Its analysis shows that it is, in reality, a very queer thing […]. The form of wood, for instance, is altered, by making a table out of it. […] But, so soon as it steps forth as a commodity, it is changed into something transcendent. It not only stands with its feet on the ground, but, in relation to all other commodities, it stands on its head, and evolves out of its wooden brain grotesque ideas, far more wonderful than ‘table-turning’ ever was.”⁷Note. When commodities can think for themselves, the tables turn.It is well-known that an automaton once existed, which was thought to be able to play a strong game of chess. It consisted of a mechanical puppet in Turkish attire, smoking an Ottoman pipe, seated at a broad table on which the chessboard lay. Sadly, the Mechanical Turk was lost in an 1854 fire at the Chinese Museum in Philadelphia, where it had been gathering dust. Happily, it didn’t feel a thing, and none of the chessmasters who had crouched inside the hidden cabinet over the years were in there as it burned.At a tournament on July 19th, 2022, a real chess automaton was playing against a seven year old boy named Christopher, one of Russia’s best under-nines. The boy reached out onto the board to make his move too quickly, whereupon the robot’s pincers seized his finger and broke it. “This is of course bad”, said the president of the Moscow Chess Federation; the engineers were “going to have to think again”.⁸ Bad robot.Physically, it may not have known its own strength, but mentally, it had been going easy on Christopher, or the match would have been no match at all. Nowadays, an iPhone can easily defeat the strongest human player. Yet somehow, chess is more popular than ever. The pandemic played its part; chess.com grew from 30 million players in March 2020 to 75 million in November 2021.⁹ Humans and machines now play with and against each other in every conceivable combination. Who wins? Who loses? What game were we playing again? Who are “we”?Christopher was gamely back in the tournament the next day, his finger in a splint.Wolfgang von Kempelen, a Hungarian civil servant and inventor at the Habsburg court, spent six months in 1770 designing and building his automaton, whereupon he unveiled it with much pomp before the Empress Maria Theresa at Schönbrunn Palace. The Mechanical Turk was a hit, but it fell short in one particular: it lacked the ability to say “check!” A muffled human voice issuing from the cabinet obviously would not do. So, the ensconced chessmaster, his candle’s smoke seeping out through the puppet’s turban and mingling with that of the long tobacco pipe, needed to improvise. Actuated by a lever, the puppet’s head could nod: twice when the opponent’s queen was threatened, or thrice when giving check to the king. A hack, as we’d now call it.Von Kempelen set to work on a better solution. Eventually, he devised a kind of articulated bellows that, when manipulated just so, quacked out something like “échec!” With enough practice, the artificial voicebox could be made to produce other words too, though they came out flat and… farty, somehow. Like gasses escaping a corpse, shaped by inanimate meaning.Perfect for an automaton, of course.Thus began von Kempelen’s real life’s work. Over the next 22 years, he perfected his functional model of the human vocal tract, its degrees of freedom expressed in parameters that could be named, studied, discretized, and tabulated. A language to study language; a dizzying, recursive prospect. Every known human tongue could now be decomposed into its phonological primitives, and these primitives strung together into synthetic speech. Language learning, dialects, and accents could be analyzed quantitatively; a window opened onto the nature and evolution of language itself.Buzzing with possibility, von Kempelen wrote:¹⁰Thoughts on the Queſtions: Whether Language Was Diſcovered by Humans, or Whether It Was Created for Them? Whether All Languages Originated from a Single Language?And what of animal languages? His small dog, a Pomeranian, was much pampered, though a handful — especially when subjected to washing, combing, and shearing. In the aftermath, it could yap indignantly for hours. But most of the time, it just kept him company in the workshop, alerting him to strangers, then returning to warm his feet as he wrote his treatise and sketched diagrams for the engraver. A companion species, and more. A canine muse. An unwitting thought partner, as dogs have been for many a natural philosopher both before and since: René Descartes, Charles Darwin, Donna Haraway, each with their interspecies manifesto.On the workbench, the brothers’ wooden model head was mounted atop a C-clamp, its rubbery “lips” in a ghastly gurn. Beside it lay a spavined copy of von Kempelen’s old treatise, which they had struggled to translate into English, lying open to one of the voicebox diagrams.Speech in the broadeſt ſenſe is the ability to make one’s feelings or thoughts known to others through ſigns. It is either ſimple or complex. The former is common to all animals, the latter to humans alone.Alexander’s big brother, Melville, dragged Trouve in from the parlor, where the Skye terrier had been napping. Aleck reached under the curtains of wooly fur to feel for the ribs, thinking to squeeze the protesting animal like a squeaky toy. “Mel, move his lips now!” The offended little fellow was growling.Reimarus in his Obſervations on the Inſtincts of Animals, denies that they have formal thoughts. But allow that the ſpiritual forces and imaginations of animals, in action and uſe, have an analogy or a diſtant ſimilarity to ours….The key was to use reward, not punishment, and to train in small steps. “Hey, boy! Treeeeeat!”, singsonged Melville, holding a biscuit aloft. Trouve made to leap, but the boys wouldn’t let him have it until he’d started that low growling again, and kept it up for a few beats. “Good boy!” The treat came within reach, and the dog reared on his stubby hind legs to snatch it.We want to define to think — to think in a very limited way — only as this analogy, becauſe for our plan it is the ſame whether an animal actually thinks, or whether according to Reimarus only has confuſed imagination….Grandmama, a bit deaf if truth be told, was unconvinced, but the boys had brought in their father, a skilled phonologist, to adjudicate. Mel put the treat ostentatiously on the table, and Aleck, on his knees with shirtsleeves rolled up, cupped Trouve’s furry face in one hand. Eyes rolling biscuitward, the dog obligingly opened his jaws and began to issue the requisite growl. Alexander reached into the little mouth to shape the sounds, manipulating tongue and lips, his hands slick with doggie spit. “What I really can’t believe is that he lets you do that to him”, said Grandmama, shaking her head. “Just listen”, said the young Alexander Graham Bell. “I’m going to make him say he loves you.”But juſt as their needs and feelings in contraſt to thoſe of humans are very narrowly circumſcribed, thus their language cannot have broad ſcope. It conſiſts in cries, calls, whimpering, whiſtling, crowing, cooing, roaring, grunting, barking, hiſsing, buzzing, and all the tones that they emit, as well as with many other ſigns that they alternatively give through the movement of parts of their bodies. Their ability in ſpeech goes no further than to ſhow their paſsion, their deſire and above all the ſtate of their feelings. Pain, pleaſure, joy, diſpleaſure, love, hate, affection, anger, needs, compaſsion, fear, courage and ſcaring are the ſenſations that they expreſs well.Generously, the hand-modulated growl could be rendered: “Ow ah oo ga ma ma”.Biscuit earned, anyway.¹¹New York World’s Fair, 1939. A classical pianist by training, Helen Kohla’s foot worked the pitch pedal while her fingers pressed the keys of the voder, fresh out of Homer Dudley’s group at Bell Labs. Out of the loudspeaker issued a short monotone sentence: “She saw me.” The audience, rapt, crowded around the triangular Art Deco stage.Now, Homer asked Helen to add expressiveness. “Who saw you?”Her back straight, she played. “She saw me”, said the machine.“Whom did she see?”“She saw me.”“Did she see you or hear you?”“She saw me.”The vocoder replaced the voder’s manual control with a microphone and spectral analyzer. Now, electronic circuits could process a speaker’s voice, turning it into the parametric signals formerly controlled by switches. Voice in, voice out: an autoencoder. Seemingly pointless, but — in fact not. It would soon become the basis for SIGSALY, a top-secret device allowing the Allies to phone securely across great distances, encrypting the speech parameters in transit.As with the voder, the reconstituted speech was distinctly robotic. In the twilight of the Cold War, Laurie Anderson made artistic use of this effect, squeegeeing every drop of warmth out of her voice as she sang,¹²Well, you don’t know me\n",
      "But I know you\n",
      "And I’ve got a message\n",
      "To give to you…Published in September 2022, AudioLM¹³ (LM for Language Model) is the ultimate generalization of the vocoder, able to construct a model from scratch not only of the human vocal tract, but of any sound source. From 60 thousand hours of recorded speech, it learns not only how to vocalize, but how to think with words (whether it actually thinks, or only has, per Reimarus, a “confused imagination”). So, while von Kempelen’s hoax has been chronicled in many accounts of the prehistory of AI, it’s really the automaton’s voicebox that deserves its place in this prehistory.In my first interaction with AudioLM, I asked, “Do you know who wrote The Unbearable Lightness of Being?” It replied, “Uhhh, the man who wrote that book? I don’t… have any idea.” The voice was entirely human-like. There’s worrisome DeepFake potential here.On the other hand, when trained on speech in multiple languages, AudioLM can translate among them. That’s useful, and especially exciting across species. It’s now training on whalesong and bat recordings. So, the tables turn.¹ Swetz, Frank J. Leibniz, the Yijing, and the Religious Conversion of the Chinese. Mathematics Magazine 76, no. 4 (2003): 276–291.² Wiener, Norbert. Cybernetics or Control and Communication in the Animal and the Machine. MIT press, 1965.³ Wheeler, John A. Information, physics, quantum: The search for links. In Zurek, Wojciech Hubert (ed.). Complexity, Entropy, and the Physics of Information. Redwood City, California: Addison-Wesley, 1990.⁴ Agüera y Arcas, Blaise. Can machines learn how to behave? Medium, 2022.⁵ Wajcman, Judy. Feminism confronts technology. Penn State Press, 1991.⁶ Marx, Karl, and Friedrich Engels. The communist manifesto. In Marx/Engels Selected Works, Vol. One, Progress Publishers, Moscow, 1969, pp. 98–137.⁷ Marx, Karl, and Friedrich Engels. Capital, Vol. Two. Progress Publishers, Moscow 1956.⁸ Chess robot grabs and breaks finger of seven-year-old opponent, The Guardian, 24 July 2022.⁹ Chess Booms In Popularity During The Pandemic, The Gamer, 27 November 2021.¹⁰ von Kempelen, Wolfgang. Mechanismus der menschlichen Sprache, 1791. Commented Transliteration and Translation into English edited by Fabian Brackhane, Richard Sproat & Jürgen Trouvain, Dresden 2017.¹¹ Groundwater, Jennifer. Alexander Graham Bell: The Spirit of Innovation. Formac Publishing Company, 2018.¹² Anderson, Laurie. O Superman. Warner Bros. Records, 1981.¹³ Borsos, Zalán, Raphaël Marinier, Damien Vincent, Eugene Kharitonov, Olivier Pietquin, Matt Sharifi, Olivier Teboul, David Grangier, Marco Tagliasacchi, and Neil Zeghidour. AudioLM: a Language Modeling Approach to Audio Generation. arXiv preprint arXiv:2209.03143 (2022).\n",
      "\n"
     ]
    }
   ],
   "source": [
    "for r in results:\n",
    "    print('\\t',r,end='\\n\\n')"
   ]
  },
  {
   "cell_type": "code",
   "execution_count": null,
   "metadata": {},
   "outputs": [],
   "source": []
  }
 ],
 "metadata": {
  "kernelspec": {
   "display_name": "Python 3",
   "language": "python",
   "name": "python3"
  },
  "language_info": {
   "codemirror_mode": {
    "name": "ipython",
    "version": 3
   },
   "file_extension": ".py",
   "mimetype": "text/x-python",
   "name": "python",
   "nbconvert_exporter": "python",
   "pygments_lexer": "ipython3",
   "version": "3.10.7 (tags/v3.10.7:6cc6b13, Sep  5 2022, 14:08:36) [MSC v.1933 64 bit (AMD64)]"
  },
  "orig_nbformat": 4,
  "vscode": {
   "interpreter": {
    "hash": "876db7d3f8682b7e4c5477e5f1e2dc2bd1b19fe05d9aabd59218369070754b39"
   }
  }
 },
 "nbformat": 4,
 "nbformat_minor": 2
}
