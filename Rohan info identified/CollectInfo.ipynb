{
 "cells": [
  {
   "cell_type": "code",
   "execution_count": 8,
   "metadata": {},
   "outputs": [],
   "source": [
    "import numpy as np\n",
    "import pandas as pd\n",
    "import re\n",
    "\n",
    "file=pd.read_csv('rohan.csv')\n",
    "\n",
    "# # actual=actual[0:101]\n",
    "\n",
    "\n",
    "\n"
   ]
  },
  {
   "cell_type": "code",
   "execution_count": 14,
   "metadata": {},
   "outputs": [
    {
     "data": {
      "text/plain": [
       "'**** 30% OF THE DATA IS COMING SOON ****\\n\\nInterface, Inc. is a global flooring company specializing in carbon neutral carpet tile and resilient flooring.\\n\\nStocks:\\nNASDAQ: TILE\\nEquity: IF6N.F, IF6N.BE, IF6N.HA'"
      ]
     },
     "execution_count": 14,
     "metadata": {},
     "output_type": "execute_result"
    }
   ],
   "source": [
    "file['Names']='en'\n",
    "file['Dates']='dt'\n",
    "file['Citys']='ct'\n",
    "file['Organizations']='org'\n",
    "actual=file['Content'].to_list()\n",
    "actual[3]"
   ]
  },
  {
   "cell_type": "code",
   "execution_count": 15,
   "metadata": {},
   "outputs": [
    {
     "data": {
      "text/plain": [
       "' 30 OF THE DATA IS COMING SOON Interface Inc is a global flooring company specializing in carbon neutral carpet tile and resilient flooringStocksNASDAQ TILEEquity IF6NF IF6NBE IF6NHA'"
      ]
     },
     "execution_count": 15,
     "metadata": {},
     "output_type": "execute_result"
    }
   ],
   "source": [
    "import re\n",
    "for i in range(len(actual)):\n",
    "    if (pd.isnull(actual[i]) == False):\n",
    "        actual[i]=re.sub(r'[^a-zA-Z0-9 ]', r'',actual[i])\n",
    "actual[3]"
   ]
  },
  {
   "cell_type": "code",
   "execution_count": 18,
   "metadata": {},
   "outputs": [
    {
     "data": {
      "text/plain": [
       "'The Montour School District comprehensive public school comprised elementary school middle school high school The community encompasses suburban areas Robinson Kennedy Townships boroughs Ingram Thornburg Pennsbury Village combined population 36000 residents The heart familyoriented suburban community located approximately 8 miles downtown Pittsburgh 97 miles Pittsburgh International Airport'"
      ]
     },
     "execution_count": 18,
     "metadata": {},
     "output_type": "execute_result"
    }
   ],
   "source": [
    "from gensim.parsing.preprocessing import remove_stopwords\n",
    "for i in range(len(actual)):\n",
    "    if (pd.isnull(actual[i]) == False):\n",
    "        actual[i]=remove_stopwords(actual[i])\n",
    "actual[155]"
   ]
  },
  {
   "cell_type": "code",
   "execution_count": 19,
   "metadata": {},
   "outputs": [],
   "source": [
    "import spacy\n",
    "nlp=spacy.load(\"en_core_web_sm\")"
   ]
  },
  {
   "cell_type": "code",
   "execution_count": 20,
   "metadata": {},
   "outputs": [
    {
     "data": {
      "text/plain": [
       "Alvaria pronounced ahlvahreeuh global leader delivering optimized customer experience workforce engagement software cloud services technology solutions"
      ]
     },
     "execution_count": 20,
     "metadata": {},
     "output_type": "execute_result"
    }
   ],
   "source": [
    "for i in range(len(actual)):\n",
    "    if (pd.isnull(actual[i]) == False):\n",
    "        actual[i]=nlp(actual[i])\n",
    "actual[1]"
   ]
  },
  {
   "cell_type": "code",
   "execution_count": 21,
   "metadata": {},
   "outputs": [],
   "source": [
    "for j in range(len(actual)):\n",
    "    en=[]\n",
    "    org=[]\n",
    "    ct=[]\n",
    "    dt=[]\n",
    "    if (pd.isnull(actual[j]) == False):\n",
    "        for i in actual[j].ents:\n",
    "            if(i.label_=='PERSON'):\n",
    "                en.append(i)\n",
    "            if(i.label_=='DATE'):\n",
    "                dt.append(i)\n",
    "            if(i.label_=='GPE'):\n",
    "                ct.append(i)\n",
    "            if(i.label_=='ORG'):\n",
    "                org.append(i)\n",
    "\n",
    "    file['Names'][j]=en\n",
    "    file['Dates'][j]=dt\n",
    "    file['Citys'][j]=ct\n",
    "    file['Organizations'][j]=org\n",
    "\n"
   ]
  },
  {
   "cell_type": "code",
   "execution_count": 30,
   "metadata": {},
   "outputs": [],
   "source": [
    "file['Organizations']\n",
    "file=file[:180]"
   ]
  },
  {
   "cell_type": "code",
   "execution_count": 29,
   "metadata": {},
   "outputs": [],
   "source": [
    "w = pd.DataFrame({ 'Heading': file['Heading'],'Contents': file['Content'],'Persons': file['Names'],'Dates': file['Date'],'Cities':file['Citys'],'Organizations':file['Organizations'], '_id':file['_id']})\n",
    "w.to_csv('Rohan_Info_Identified.csv', index=False)"
   ]
  },
  {
   "cell_type": "code",
   "execution_count": null,
   "metadata": {},
   "outputs": [],
   "source": []
  }
 ],
 "metadata": {
  "kernelspec": {
   "display_name": "Python 3",
   "language": "python",
   "name": "python3"
  },
  "language_info": {
   "codemirror_mode": {
    "name": "ipython",
    "version": 3
   },
   "file_extension": ".py",
   "mimetype": "text/x-python",
   "name": "python",
   "nbconvert_exporter": "python",
   "pygments_lexer": "ipython3",
   "version": "3.10.7"
  },
  "orig_nbformat": 4,
  "vscode": {
   "interpreter": {
    "hash": "876db7d3f8682b7e4c5477e5f1e2dc2bd1b19fe05d9aabd59218369070754b39"
   }
  }
 },
 "nbformat": 4,
 "nbformat_minor": 2
}
