{
 "cells": [
  {
   "cell_type": "code",
   "execution_count": 181,
   "metadata": {},
   "outputs": [],
   "source": [
    "import numpy as np\n",
    "import pandas as pd\n",
    "import re\n",
    "\n",
    "file=pd.read_csv('medium_Data.csv.xls')\n",
    "file['Names']='en'\n",
    "file['Dates']='dt'\n",
    "file['Citys']='ct'\n",
    "file['Organizations']='org'\n",
    "actual=file['Contents'].to_list()\n",
    "# actual=actual[0:101]\n",
    "\n",
    "\n",
    "\n"
   ]
  },
  {
   "cell_type": "code",
   "execution_count": 182,
   "metadata": {},
   "outputs": [
    {
     "data": {
      "text/plain": [
       "'You didn t take the bar exam  That s probably because you didn t go to law school  Good for you  Law school is hard  Your first year is an elaborate hazing ritual in which we law professors pull out your brain and put it back in upside down  We make you read hundreds of pages every week while looking for summer jobs and shoring up extra curriculars for your r sum   Most classes base your grade on one all or nothing exam at the end of the semester  By the end of the third year  you are a different person  You have learned a new language  new ways to shake hands  new ways to dress  new methods of killing and being killed But you did all that  and you didn t crack  You made it through high school with good enough grades in your classes and on the SAT to get into college  You made it through college with good enough grades in your classes and on the LSAT to get into law school  You made it through law school with good enough grades on exam after exam to graduate  And you paid for it all All that was even harder to do if you had to work a full time job between classes during the day  put your kids to bed  and then spend all night parsing 2000 word paragraphs written by Englishmen in the 19th century  Or if you were a first generation college graduate  stuck with the additional homework of learning the culture and habits of the professional class Now you must take what will be the final standardized test before beginning your lifelong campaign to accumulate capital  The bar exam  Or you would  if you had gone to law school  which you didn t  Again  probably a good choice Then again  maybe you didn t have much choice in the matter  Ours is an exclusive club  after all  For much of American history  legal education was not open to women  people of color  or the offspring of wage laborers  As the demographics of those seeking to practice law changed  the requirements for becoming a full fledged lawyer got more difficult  For decades  most students automatically became lawyers upon graduation from law school  But in 1921  three years after the first women were admitted to the American Bar Association  written bar examinations started to become the new norm  That same year  the profession began to  regulate  law schools   that is to say  to make it tougher to get in  Today only one state  Wisconsin  allows graduates to practice law without taking a bar exam American lawyers are expected to uphold tradition and precedent  that is to say  to preserve as much as we can of a judicial system founded on white supremacy and naked class warfare  even as social and cultural changes gradually render that system obsolete  As such  the vetting process to ensure that we will be guardians of the system as it is  and as it was  is a vigorous one  There are a lot of genuinely good hearted lawyers out there  but one might say the entire legal system itself is geared toward protecting the interests of the wealthy  to the extent that it has a natural disdain for those who set out to do anything to the contrary  Gatekeepers charged with making sure that lawyers end up faithful dogs for the right masters are thus ever present  following closely behind earnest students from the first day of their formal education right up till the last day of law school  There s an academic timeline that every idealistic law graduate knows well In your first year of law school  you want to help people By your second year  you want to help people  as long as you can make some money doing it By your third year  you just want to get the hell out and make a living  already The few clear eyed  radicals  who manage to make it into law school have had their vision so obfuscated by the time they graduate that they often end up using their licenses at big firms  helping corporations do all the despicable things they swore they d never be a part of  In fact  it is a blessed miracle when they do anything other than that  less than two percent of America s 1 3 million lawyers work on legal problems of the poor The bar exam is the final boss  the ultimate flaming hoop  the last chance to stop altruists in their tracks  If you don t have an extra  2000 to pay for a prep course  or if you don t have several hours a day to study for a couple of months  or if you are just not that great at regurgitating obscure factoids that you will never have to use again  you are more likely to fail Around this time of year  recent graduates begin posting about whether they passed the bar exam  Over the years  I have noticed an unmistakable overlap in the Venn diagram of 1  those who fail and 2  those who really want to change the system by challenging power  those who remained radical for three long years of brutal reprogramming and financial hardship  those who remember why they came to law school in the first place I don t have any statistical proof that do gooders do worse  But what I can say for sure is  Students who are the most capable of taking on the whole damn world fail this thing sometimes  Every one of these beautiful souls who does not end up practicing law represents a serious loss  Not just for that person  but for the whole community And that brings me to the subject of this column  Why should you  who never took the bar exam  care about who fails it  You should care if you are poor  because there will be no one to represent you  You should care if you are watching the courts  because you only get empathetic judges from empathetic lawyers  And you should care if you are interested in your society at all  because   like it or not   lawyers tend to make the rules  Who would you rather have in positions of power  People who are good at taking tests  Or people who are good '"
      ]
     },
     "execution_count": 182,
     "metadata": {},
     "output_type": "execute_result"
    }
   ],
   "source": [
    "import re\n",
    "for i in range(0,309):\n",
    "    if (pd.isnull(actual[i]) == False):\n",
    "        actual[i]=re.sub(r'[^a-zA-Z0-9 ]', r' ',actual[i])\n",
    "actual[3]"
   ]
  },
  {
   "cell_type": "code",
   "execution_count": 183,
   "metadata": {},
   "outputs": [
    {
     "data": {
      "text/plain": [
       "'Ultima Online celebrating 25th anniversary You know means right Story time In spirit gamedev inspired classic UO postmortem video Raph Koster et al I thought d fun share stories middle years Ultima Online time EA Redwood Shores Mythic Fairfax Today s tale technical teardown burning cheaters houses finding criminal ring illegal item dupers When Ultima Online launched players bugs By I mean lot And valuable diabolical worth building secret web forum trade sort bug duping Being able duplicate item better bag items advantageous exploit possible game Better speed hacking better direct damage passthrough better pre lockdown home invasions Some beta testers secret Not course certain seedy elements beta testing crowd follow virtue Honesty chose hoard knowledge exploits report development team Once UO s beta ended game launched suddenly economy hit wave item duping What carefully guarded exploit Abusing areaserv boundaries I remember time I saw It 1997 I running north orc encampment near town Cove I saw randos weirdest thing running forth annoyingly laggy patch game map dropping little chests ground Now I knew particular area worst You truly annoying map dirt path mountains orc fortress pretty unresponsive jerky walked In fact ran rubberbanded finding losing seconds gameplay time bounced previous position server caught Remind tell UO s server client interpolation tick rate someday This especially bad monster like inconveniently placed Orc Captain directly south chasing whacked death pathetically laggy attempt flee Imagine surprise players started excitedly yelling text floated heads worked omgz Yup managed excitedly bragged figure trick drop chest laggy patch trying pick hand player crossing copy chest contents Dupers What I seen exploit based areaserv boundaries split playable gameworld Ultima Online UO easy way generation designers trying things inventing entirely new things later online games simply shake heads nah s hard For instance load balance thousands players huge 29 360 128 meter game map 1997 Instead having different zones loading screens long foggy mountain passes UO developers invented rectangular seamless sub maps fairly invisible method let walk things visible updating real time Thus game server shard played actually divided areaservs incredibly written mirror code handled communicating gamestate object conditions events border But crossing borders player noticeably laggy Aside If look areaserv map notice Britannia ve divided bit carefully areaserv boundaries t cut important populated gameplay areas look poor Buccaneer s Den s reason hidden underground tunnels fun PvP The areaservs essentially copying player character sending bundled message containing info Once player crossed boundary destroyed old copy player initial And wasn t players autonomous mobile objects mobs like monsters animals NPCs cross Note future exploits monsters animals backpacks inventories players piggyback exploit attempts lots llama drama Naturally given bug areaserv code represented greatest probable source duping exploits especially coupled purposefully manipulations player s gamestate server backup shutdown sequence morning And I joined UO team I learned things It felt like constantly backfoot couldn t proactive dupes depended player reports customer service identify egregious exploits Then day I weird idea There couple things know UO mid 2000 s 2 biggest problem trying dupes UO s gamestate wasn t database way query player possessions objects illicit goods It 4gbs binary blob data sense loaded game I tried I wanted read binary blobs I wanted Customer Service tools duped stolen items It wasn t possible tools time Then I remembered 5 gave idea different line attack Every dynamic object UO mobile player item capable storing data scripts Scripts t hold state code execution ends store needed data objvars attach objects scripts attached The scripts contained tons triggers event handlers tied game conditions As I mentioned 5 went like beforeServerLoad heck I remember actual specifically executed backup loading stage areaserv startup process I thought What marked valuable items game loaded backup I went lead engineer Supreem asked addition C code associated mapping Wombat func hashing function hello crypto I wanted gameserv store running list marked items areaserv loading process identify dupes A global hash registry Here s worked The idea valuable item worthy duping unique hash stored objvar duping process copy objvar s value Then unique objects holding hash The best time check bulk server loads marked objects I AM DUPED objvar Note memory fuzzy tie script onPlayerLoad event I t remember players loaded areaserv fetched backup data demand It lot like stamping rare items sort invisible ink fluoresced certain conditions So released updated code let run globally weeks And hunt began Mwaha Mwahaha MWAHAHAHAHAHA Within couple weeks realized phase worked ton duped rare items held set player accounts multiple game servers Despite excitement paused We sat talk Management Customer Service Community Manager Our producer stoked explain d accomplished studio general manager I remember sitting meeting smile face pleased punch arrogant young gamedev hear I wasn t expecting Mmm I t think deleting duped items good idea ll hurt players I hadn t considered actually At I excited having accomplished long held goal catch dupers I wanted chafe maybe assert t understand reined meeting I went team told forbidden auto deleting dupes So went CS team data It true It ve terrible idea The dupes spread quickly created deleted players bought hard earned gold dupers affecting significant portion playerbase Sure fine morality action scale hundreds thousands affected players shard asking frustration cause wave quiet quitting I shouldn t surprised studio s general manager running MMOs lot longer I To matters complicated Customer Service team started asking hard questions like Exactly duped runic valorite hammers person ban Wait supposed assign arbitrary value dupes held person suspicious Oh Oh boy This harder code It community design game design Thankfully level headed community manager exuberance Honestly managing I got passionate CS going ban actual dupers anyways Why event conversation went Well I lead live events designer plotted We identified dupers storage depos homes duped items NPC vendors selling players The duping ring stretched multiple servers comprised distinct groups necessarily working They evolved behaviors making tons UO gold selling dupes selling UO gold secondary markets hard cash So Adida I wrote script attached house Then chose day struck Customer Service mass banned dupers timer right associated server came online Then paused gameserv loginserv connection servers Adida I ran teleported housing location attached script watched fires erupt joy moved We batches related servers duping ring t time notice banned try log alt accounts houses themConfusion Chaos Joy Laughter Discussion threads popped Stratics MMORPG com instantly wonderings guesses false suggestions like CS employee caught banning false Dozens homes destroyed entire multiverse Ultima Online flames licking sooty rubble visible testimony team s determination deal cheaters It felt fantastic And told Lol We took flak daringly public cheating players sure identify players directly barely skated upper upper upper management Customer Service instructed use discretion deal I AM DUPED items honestly I t know remembers exists Readers ve exposed NFTs notice eerie resemblance marking rare items non fungible unique hashes blockchain based Non Fungible Tokens NFTs work today Ironically thing method t work stacks objects fungible items like gold coins But Satoshi Nakamoto solved problem The Bitcoin paper describes perfect method online offline validating timestamped events like currency creation It ve helped prevent dupes ensured internal bad actors item creation powers couldn t generate bunch gold sell outside game Not I m saying MMOs need blockchains turns Proof Work ledger technology use case No wonder Amazon offers similar service QLDB Finally biggest things learned having deal economics especially players wanted compete available premium housing spots But s story Tim Draconi Cotten lead game designer Ultima Online Stygian Abyss s writing stories wild days online gaming working applying hard won lessons Metaverse design Follow Twitter Ultima related stories'"
      ]
     },
     "execution_count": 183,
     "metadata": {},
     "output_type": "execute_result"
    }
   ],
   "source": [
    "from gensim.parsing.preprocessing import remove_stopwords\n",
    "for i in range(309):\n",
    "    if (pd.isnull(actual[i]) == False):\n",
    "        actual[i]=remove_stopwords(actual[i])\n",
    "actual[1]"
   ]
  },
  {
   "cell_type": "code",
   "execution_count": 184,
   "metadata": {},
   "outputs": [],
   "source": [
    "import spacy\n",
    "nlp=spacy.load(\"en_core_web_sm\")"
   ]
  },
  {
   "cell_type": "code",
   "execution_count": 185,
   "metadata": {},
   "outputs": [
    {
     "data": {
      "text/plain": [
       "Ultima Online celebrating 25th anniversary You know means right Story time In spirit gamedev inspired classic UO postmortem video Raph Koster et al I thought d fun share stories middle years Ultima Online time EA Redwood Shores Mythic Fairfax Today s tale technical teardown burning cheaters houses finding criminal ring illegal item dupers When Ultima Online launched players bugs By I mean lot And valuable diabolical worth building secret web forum trade sort bug duping Being able duplicate item better bag items advantageous exploit possible game Better speed hacking better direct damage passthrough better pre lockdown home invasions Some beta testers secret Not course certain seedy elements beta testing crowd follow virtue Honesty chose hoard knowledge exploits report development team Once UO s beta ended game launched suddenly economy hit wave item duping What carefully guarded exploit Abusing areaserv boundaries I remember time I saw It 1997 I running north orc encampment near town Cove I saw randos weirdest thing running forth annoyingly laggy patch game map dropping little chests ground Now I knew particular area worst You truly annoying map dirt path mountains orc fortress pretty unresponsive jerky walked In fact ran rubberbanded finding losing seconds gameplay time bounced previous position server caught Remind tell UO s server client interpolation tick rate someday This especially bad monster like inconveniently placed Orc Captain directly south chasing whacked death pathetically laggy attempt flee Imagine surprise players started excitedly yelling text floated heads worked omgz Yup managed excitedly bragged figure trick drop chest laggy patch trying pick hand player crossing copy chest contents Dupers What I seen exploit based areaserv boundaries split playable gameworld Ultima Online UO easy way generation designers trying things inventing entirely new things later online games simply shake heads nah s hard For instance load balance thousands players huge 29 360 128 meter game map 1997 Instead having different zones loading screens long foggy mountain passes UO developers invented rectangular seamless sub maps fairly invisible method let walk things visible updating real time Thus game server shard played actually divided areaservs incredibly written mirror code handled communicating gamestate object conditions events border But crossing borders player noticeably laggy Aside If look areaserv map notice Britannia ve divided bit carefully areaserv boundaries t cut important populated gameplay areas look poor Buccaneer s Den s reason hidden underground tunnels fun PvP The areaservs essentially copying player character sending bundled message containing info Once player crossed boundary destroyed old copy player initial And wasn t players autonomous mobile objects mobs like monsters animals NPCs cross Note future exploits monsters animals backpacks inventories players piggyback exploit attempts lots llama drama Naturally given bug areaserv code represented greatest probable source duping exploits especially coupled purposefully manipulations player s gamestate server backup shutdown sequence morning And I joined UO team I learned things It felt like constantly backfoot couldn t proactive dupes depended player reports customer service identify egregious exploits Then day I weird idea There couple things know UO mid 2000 s 2 biggest problem trying dupes UO s gamestate wasn t database way query player possessions objects illicit goods It 4gbs binary blob data sense loaded game I tried I wanted read binary blobs I wanted Customer Service tools duped stolen items It wasn t possible tools time Then I remembered 5 gave idea different line attack Every dynamic object UO mobile player item capable storing data scripts Scripts t hold state code execution ends store needed data objvars attach objects scripts attached The scripts contained tons triggers event handlers tied game conditions As I mentioned 5 went like beforeServerLoad heck I remember actual specifically executed backup loading stage areaserv startup process I thought What marked valuable items game loaded backup I went lead engineer Supreem asked addition C code associated mapping Wombat func hashing function hello crypto I wanted gameserv store running list marked items areaserv loading process identify dupes A global hash registry Here s worked The idea valuable item worthy duping unique hash stored objvar duping process copy objvar s value Then unique objects holding hash The best time check bulk server loads marked objects I AM DUPED objvar Note memory fuzzy tie script onPlayerLoad event I t remember players loaded areaserv fetched backup data demand It lot like stamping rare items sort invisible ink fluoresced certain conditions So released updated code let run globally weeks And hunt began Mwaha Mwahaha MWAHAHAHAHAHA Within couple weeks realized phase worked ton duped rare items held set player accounts multiple game servers Despite excitement paused We sat talk Management Customer Service Community Manager Our producer stoked explain d accomplished studio general manager I remember sitting meeting smile face pleased punch arrogant young gamedev hear I wasn t expecting Mmm I t think deleting duped items good idea ll hurt players I hadn t considered actually At I excited having accomplished long held goal catch dupers I wanted chafe maybe assert t understand reined meeting I went team told forbidden auto deleting dupes So went CS team data It true It ve terrible idea The dupes spread quickly created deleted players bought hard earned gold dupers affecting significant portion playerbase Sure fine morality action scale hundreds thousands affected players shard asking frustration cause wave quiet quitting I shouldn t surprised studio s general manager running MMOs lot longer I To matters complicated Customer Service team started asking hard questions like Exactly duped runic valorite hammers person ban Wait supposed assign arbitrary value dupes held person suspicious Oh Oh boy This harder code It community design game design Thankfully level headed community manager exuberance Honestly managing I got passionate CS going ban actual dupers anyways Why event conversation went Well I lead live events designer plotted We identified dupers storage depos homes duped items NPC vendors selling players The duping ring stretched multiple servers comprised distinct groups necessarily working They evolved behaviors making tons UO gold selling dupes selling UO gold secondary markets hard cash So Adida I wrote script attached house Then chose day struck Customer Service mass banned dupers timer right associated server came online Then paused gameserv loginserv connection servers Adida I ran teleported housing location attached script watched fires erupt joy moved We batches related servers duping ring t time notice banned try log alt accounts houses themConfusion Chaos Joy Laughter Discussion threads popped Stratics MMORPG com instantly wonderings guesses false suggestions like CS employee caught banning false Dozens homes destroyed entire multiverse Ultima Online flames licking sooty rubble visible testimony team s determination deal cheaters It felt fantastic And told Lol We took flak daringly public cheating players sure identify players directly barely skated upper upper upper management Customer Service instructed use discretion deal I AM DUPED items honestly I t know remembers exists Readers ve exposed NFTs notice eerie resemblance marking rare items non fungible unique hashes blockchain based Non Fungible Tokens NFTs work today Ironically thing method t work stacks objects fungible items like gold coins But Satoshi Nakamoto solved problem The Bitcoin paper describes perfect method online offline validating timestamped events like currency creation It ve helped prevent dupes ensured internal bad actors item creation powers couldn t generate bunch gold sell outside game Not I m saying MMOs need blockchains turns Proof Work ledger technology use case No wonder Amazon offers similar service QLDB Finally biggest things learned having deal economics especially players wanted compete available premium housing spots But s story Tim Draconi Cotten lead game designer Ultima Online Stygian Abyss s writing stories wild days online gaming working applying hard won lessons Metaverse design Follow Twitter Ultima related stories"
      ]
     },
     "execution_count": 185,
     "metadata": {},
     "output_type": "execute_result"
    }
   ],
   "source": [
    "for i in range(309):\n",
    "    if (pd.isnull(actual[i]) == False):\n",
    "        actual[i]=nlp(actual[i])\n",
    "actual[1]"
   ]
  },
  {
   "cell_type": "code",
   "execution_count": 186,
   "metadata": {},
   "outputs": [],
   "source": [
    "for j in range(0,309):\n",
    "    en=[]\n",
    "    org=[]\n",
    "    ct=[]\n",
    "    dt=[]\n",
    "    if (pd.isnull(actual[j]) == False):\n",
    "        for i in actual[j].ents:\n",
    "            if(i.label_=='PERSON'):\n",
    "                en.append(i)\n",
    "            if(i.label_=='DATE'):\n",
    "                dt.append(i)\n",
    "            if(i.label_=='GPE'):\n",
    "                ct.append(i)\n",
    "            if(i.label_=='ORG'):\n",
    "                org.append(i)\n",
    "\n",
    "    file['Names'][j]=en\n",
    "    file['Dates'][j]=dt\n",
    "    file['Citys'][j]=ct\n",
    "    file['Organizations'][j]=org\n",
    "\n"
   ]
  },
  {
   "cell_type": "code",
   "execution_count": 193,
   "metadata": {},
   "outputs": [
    {
     "data": {
      "text/plain": [
       "[Ukraine, Ukraine, Russia, US, Canada, Russia, Twitter, US]"
      ]
     },
     "execution_count": 193,
     "metadata": {},
     "output_type": "execute_result"
    }
   ],
   "source": [
    "file['Citys'][10]"
   ]
  },
  {
   "cell_type": "code",
   "execution_count": 195,
   "metadata": {},
   "outputs": [],
   "source": [
    "w = pd.DataFrame({ 'Titles': file['Titles'],'Authors': file['Authors'], 'Links': file['Links'],'Contents': file['Contents'],'Persons': file['Names'],'Dates': file['Dates'],'Cities':file['Citys'],'Organizations':file['Organizations']})\n",
    "w.to_csv('Medium_Info_Identified.csv', index=False)"
   ]
  },
  {
   "cell_type": "code",
   "execution_count": null,
   "metadata": {},
   "outputs": [],
   "source": []
  }
 ],
 "metadata": {
  "kernelspec": {
   "display_name": "Python 3",
   "language": "python",
   "name": "python3"
  },
  "language_info": {
   "codemirror_mode": {
    "name": "ipython",
    "version": 3
   },
   "file_extension": ".py",
   "mimetype": "text/x-python",
   "name": "python",
   "nbconvert_exporter": "python",
   "pygments_lexer": "ipython3",
   "version": "3.10.7"
  },
  "orig_nbformat": 4,
  "vscode": {
   "interpreter": {
    "hash": "876db7d3f8682b7e4c5477e5f1e2dc2bd1b19fe05d9aabd59218369070754b39"
   }
  }
 },
 "nbformat": 4,
 "nbformat_minor": 2
}
